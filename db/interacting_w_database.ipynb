{
 "cells": [
  {
   "cell_type": "code",
   "execution_count": 3,
   "metadata": {},
   "outputs": [],
   "source": [
    "import sqlite3"
   ]
  },
  {
   "cell_type": "markdown",
   "metadata": {},
   "source": [
    "Followed this basic sqlite tutorial https://www.youtube.com/watch?v=pd-0G0MigUA\n",
    "\n",
    "we connect to the database file.\n",
    "\n",
    "To test the code without having to drop or clear the table every time we can use \":memory:\" instead of a file (in this case \"journal_log.db\").\n",
    "This will save the database in ram only."
   ]
  },
  {
   "cell_type": "code",
   "execution_count": 4,
   "metadata": {},
   "outputs": [],
   "source": [
    "# conn = sqlite3.connect(\":memory:\")\n",
    "conn = sqlite3.connect(\"journal_log.db\")\n",
    "cursor1 = conn.cursor()"
   ]
  },
  {
   "cell_type": "markdown",
   "metadata": {},
   "source": [
    "Create sql table\n",
    "we use a docstring to write a multi-line string\n",
    "we use the sql text datatype to both save the exact date dd/mm/yyyy/ssss as our primary key.\n",
    "This only needs to be ran once so we comment it out after running it\n"
   ]
  },
  {
   "cell_type": "code",
   "execution_count": 74,
   "metadata": {},
   "outputs": [
    {
     "data": {
      "text/plain": [
       "<sqlite3.Cursor at 0x7efbed1236c0>"
      ]
     },
     "execution_count": 74,
     "metadata": {},
     "output_type": "execute_result"
    }
   ],
   "source": [
    "# cursor1.execute(\"\"\"CREATE TABLE journal_entries (\n",
    "#     date text,\n",
    "#     entry text\n",
    "# )\"\"\")\n"
   ]
  },
  {
   "cell_type": "markdown",
   "metadata": {},
   "source": [
    "We add some test values to the table. Comment out to not keep adding it"
   ]
  },
  {
   "cell_type": "code",
   "execution_count": 75,
   "metadata": {},
   "outputs": [],
   "source": [
    "# cursor1.execute(\"INSERT INTO journal_entries VALUES ('28/04/2021', 'I did some stuff today!')\")"
   ]
  },
  {
   "cell_type": "markdown",
   "metadata": {},
   "source": [
    "To add to the table using variables:\n",
    "We could use string formating, but this is bad practice because it is vurnable to sql injection attacks.\n",
    "Instead we will use a dictionary to pass the variables"
   ]
  },
  {
   "cell_type": "code",
   "execution_count": 76,
   "metadata": {},
   "outputs": [],
   "source": [
    "# date1 = \"27/04/2018\"\n",
    "# entry1 = \"It was sunny today\"\n",
    "# cursor1.execute(\"INSERT INTO journal_entries VALUES (:date, :entry)\", {'date': date1, 'entry': entry1})"
   ]
  },
  {
   "cell_type": "markdown",
   "metadata": {},
   "source": [
    "Go through database with the syntax cursor.execture(\"Command\") where kex words are in caps.\n",
    "Basic example cursor1.execute(\"SELECT * FROM journal_entries WHERE date='28/04/2021'\")\n",
    "\n",
    "To iterate through all the rows, we can use cursor.fetchone() which will get the next row. Return none if no more rows are available\n",
    "cursor.fetchmany(3) gets the next 3 rows as a list. Will return an empty list if no more are available\n",
    "cursor.fetchall() returns the remaining rows as a list"
   ]
  },
  {
   "cell_type": "code",
   "execution_count": 77,
   "metadata": {},
   "outputs": [
    {
     "name": "stdout",
     "output_type": "stream",
     "text": [
      "[]\n"
     ]
    }
   ],
   "source": [
    "#cursor1.execute(\"DELETE FROM journal_entries WHERE date = '27/04/2018'\")\n",
    "cursor1.execute(\"SELECT * FROM journal_entries\")\n",
    "print(cursor1.fetchall())\n"
   ]
  },
  {
   "cell_type": "code",
   "execution_count": 78,
   "metadata": {},
   "outputs": [
    {
     "name": "stdout",
     "output_type": "stream",
     "text": [
      "[]\n"
     ]
    }
   ],
   "source": [
    "cursor1.execute(\"SELECT * FROM journal_entries WHERE date=:date\", {'date': '28/04/2021'})\n",
    "print(cursor1.fetchall())"
   ]
  },
  {
   "cell_type": "markdown",
   "metadata": {},
   "source": [
    "Then we commit the transactions/changes and close it"
   ]
  },
  {
   "cell_type": "code",
   "execution_count": 5,
   "metadata": {},
   "outputs": [
    {
     "data": {
      "text/plain": [
       "<function Connection.close>"
      ]
     },
     "execution_count": 5,
     "metadata": {},
     "output_type": "execute_result"
    }
   ],
   "source": [
    "conn.commit()\n",
    "conn.close"
   ]
  }
 ],
 "metadata": {
  "interpreter": {
   "hash": "916dbcbb3f70747c44a77c7bcd40155683ae19c65e1c03b4aa3499c5328201f1"
  },
  "kernelspec": {
   "display_name": "Python 3.8.10 64-bit",
   "language": "python",
   "name": "python3"
  },
  "language_info": {
   "codemirror_mode": {
    "name": "ipython",
    "version": 3
   },
   "file_extension": ".py",
   "mimetype": "text/x-python",
   "name": "python",
   "nbconvert_exporter": "python",
   "pygments_lexer": "ipython3",
   "version": "3.8.10"
  },
  "orig_nbformat": 4
 },
 "nbformat": 4,
 "nbformat_minor": 2
}
